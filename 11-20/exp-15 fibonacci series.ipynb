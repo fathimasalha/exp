{
 "cells": [
  {
   "cell_type": "code",
   "execution_count": 1,
   "id": "2f09de68",
   "metadata": {},
   "outputs": [
    {
     "name": "stdout",
     "output_type": "stream",
     "text": [
      "enter a number:5\n",
      "fibonacci series is:\n",
      "0\n",
      "1\n",
      "1\n",
      "2\n",
      "3\n"
     ]
    }
   ],
   "source": [
    "#fibonacci series\n",
    "n=int(input(\"enter a number:\"))\n",
    "print(\"fibonacci series is:\")\n",
    "f=0\n",
    "s=1\n",
    "i=1\n",
    "while(i<=n):\n",
    "    r=f+s\n",
    "    print(f)\n",
    "    f=s\n",
    "    s=r\n",
    "    i=i+1\n",
    "    "
   ]
  },
  {
   "cell_type": "code",
   "execution_count": null,
   "id": "bcd3b3a1",
   "metadata": {},
   "outputs": [],
   "source": []
  }
 ],
 "metadata": {
  "kernelspec": {
   "display_name": "Python 3 (ipykernel)",
   "language": "python",
   "name": "python3"
  },
  "language_info": {
   "codemirror_mode": {
    "name": "ipython",
    "version": 3
   },
   "file_extension": ".py",
   "mimetype": "text/x-python",
   "name": "python",
   "nbconvert_exporter": "python",
   "pygments_lexer": "ipython3",
   "version": "3.10.6"
  }
 },
 "nbformat": 4,
 "nbformat_minor": 5
}
