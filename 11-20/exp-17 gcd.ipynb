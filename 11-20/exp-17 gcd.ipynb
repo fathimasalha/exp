{
 "cells": [
  {
   "cell_type": "code",
   "execution_count": 3,
   "id": "d70e8d0f",
   "metadata": {},
   "outputs": [
    {
     "name": "stdout",
     "output_type": "stream",
     "text": [
      "enter first no:12\n",
      "enter second no:30\n",
      "gcd of 12 and 30 is: 6\n"
     ]
    }
   ],
   "source": [
    "#gcd\n",
    "a=int(input(\"enter first no:\"))\n",
    "b=int(input(\"enter second no:\"))\n",
    "i=1\n",
    "while(i<=a and i<=b):\n",
    "    if(a%i==0 and b%i==0):\n",
    "        gcd=i\n",
    "    i=i+1\n",
    "print(\"gcd of\",a,\"and\",b,\"is:\",gcd)"
   ]
  },
  {
   "cell_type": "code",
   "execution_count": null,
   "id": "cf5df908",
   "metadata": {},
   "outputs": [],
   "source": []
  }
 ],
 "metadata": {
  "kernelspec": {
   "display_name": "Python 3 (ipykernel)",
   "language": "python",
   "name": "python3"
  },
  "language_info": {
   "codemirror_mode": {
    "name": "ipython",
    "version": 3
   },
   "file_extension": ".py",
   "mimetype": "text/x-python",
   "name": "python",
   "nbconvert_exporter": "python",
   "pygments_lexer": "ipython3",
   "version": "3.10.6"
  }
 },
 "nbformat": 4,
 "nbformat_minor": 5
}
