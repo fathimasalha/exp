{
 "cells": [
  {
   "cell_type": "code",
   "execution_count": 1,
   "id": "f915912e",
   "metadata": {},
   "outputs": [
    {
     "name": "stdout",
     "output_type": "stream",
     "text": [
      "howmany no.s:3\n",
      "enter a number:24\n",
      "enter a number:34\n",
      "enter a number:56\n",
      "sum of numbers in list= 114\n"
     ]
    }
   ],
   "source": [
    "l=[]\n",
    "n=int(input(\"howmany no.s:\"))\n",
    "for i in range(n):\n",
    "    a=int(input(\"enter a number:\"))\n",
    "    l.append(a)\n",
    "print(\"sum of numbers in list=\",sum(l))"
   ]
  },
  {
   "cell_type": "code",
   "execution_count": null,
   "id": "a2030adb",
   "metadata": {},
   "outputs": [],
   "source": []
  }
 ],
 "metadata": {
  "kernelspec": {
   "display_name": "Python 3 (ipykernel)",
   "language": "python",
   "name": "python3"
  },
  "language_info": {
   "codemirror_mode": {
    "name": "ipython",
    "version": 3
   },
   "file_extension": ".py",
   "mimetype": "text/x-python",
   "name": "python",
   "nbconvert_exporter": "python",
   "pygments_lexer": "ipython3",
   "version": "3.10.6"
  }
 },
 "nbformat": 4,
 "nbformat_minor": 5
}
