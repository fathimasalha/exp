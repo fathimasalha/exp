{
 "cells": [
  {
   "cell_type": "code",
   "execution_count": 1,
   "id": "84c47fe3",
   "metadata": {},
   "outputs": [
    {
     "name": "stdout",
     "output_type": "stream",
     "text": [
      "dictionary: {23: 'sanu', 12: 'adi', 45: 'ram', 9: 'midu'}\n",
      "ascending order: [(9, 'midu'), (12, 'adi'), (23, 'sanu'), (45, 'ram')]\n",
      "descending order: [(45, 'ram'), (23, 'sanu'), (12, 'adi'), (9, 'midu')]\n"
     ]
    }
   ],
   "source": [
    "d={23:'sanu',12:'adi',45:'ram',9:'midu'}\n",
    "print(\"dictionary:\",d)\n",
    "l=list(d.items())\n",
    "l.sort()\n",
    "print(\"ascending order:\",l)\n",
    "l=list(d.items())\n",
    "l.sort(reverse=True)\n",
    "print(\"descending order:\",l)\n"
   ]
  },
  {
   "cell_type": "code",
   "execution_count": null,
   "id": "53c369c8",
   "metadata": {},
   "outputs": [],
   "source": []
  }
 ],
 "metadata": {
  "kernelspec": {
   "display_name": "Python 3 (ipykernel)",
   "language": "python",
   "name": "python3"
  },
  "language_info": {
   "codemirror_mode": {
    "name": "ipython",
    "version": 3
   },
   "file_extension": ".py",
   "mimetype": "text/x-python",
   "name": "python",
   "nbconvert_exporter": "python",
   "pygments_lexer": "ipython3",
   "version": "3.10.6"
  }
 },
 "nbformat": 4,
 "nbformat_minor": 5
}
