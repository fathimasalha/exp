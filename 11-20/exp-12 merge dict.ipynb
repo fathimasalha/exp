{
 "cells": [
  {
   "cell_type": "code",
   "execution_count": 1,
   "id": "6b04a3eb",
   "metadata": {},
   "outputs": [
    {
     "name": "stdout",
     "output_type": "stream",
     "text": [
      "first dict: {1: 'sam', 2: 'diya', 3: 'ranu'}\n",
      "second dic: {4: 'shan', 5: 'minu'}\n",
      "\n",
      " merged dict:\n",
      "{1: 'sam', 2: 'diya', 3: 'ranu', 4: 'shan', 5: 'minu'}\n"
     ]
    }
   ],
   "source": [
    "d1={1:'sam',2:'diya',3:'ranu'}\n",
    "d2={4:'shan',5:'minu'}\n",
    "print(\"first dict:\",d1)\n",
    "print(\"second dic:\",d2)\n",
    "d1.update(d2)\n",
    "print(\"\\n merged dict:\")\n",
    "print(d1)"
   ]
  },
  {
   "cell_type": "code",
   "execution_count": null,
   "id": "b5209ff8",
   "metadata": {},
   "outputs": [],
   "source": []
  }
 ],
 "metadata": {
  "kernelspec": {
   "display_name": "Python 3 (ipykernel)",
   "language": "python",
   "name": "python3"
  },
  "language_info": {
   "codemirror_mode": {
    "name": "ipython",
    "version": 3
   },
   "file_extension": ".py",
   "mimetype": "text/x-python",
   "name": "python",
   "nbconvert_exporter": "python",
   "pygments_lexer": "ipython3",
   "version": "3.10.6"
  }
 },
 "nbformat": 4,
 "nbformat_minor": 5
}
