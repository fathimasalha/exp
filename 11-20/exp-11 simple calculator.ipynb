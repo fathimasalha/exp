{
 "cells": [
  {
   "cell_type": "code",
   "execution_count": 3,
   "id": "5ce8b488",
   "metadata": {},
   "outputs": [
    {
     "name": "stdout",
     "output_type": "stream",
     "text": [
      "enter first no:24\n",
      "enter second no:12\n",
      "the operations to perform:\n",
      "1.Addition\n",
      "2.Substraction\n",
      "3.Multiplication\n",
      "4.Division\n",
      "enter your choice:4\n",
      "Division:2.00\n"
     ]
    }
   ],
   "source": [
    "n1=int(input(\"enter first no:\"))\n",
    "n2=int(input(\"enter second no:\"))\n",
    "print(\"the operations to perform:\")\n",
    "print(\"1.Addition\")\n",
    "print(\"2.Substraction\")\n",
    "print(\"3.Multiplication\")\n",
    "print(\"4.Division\")\n",
    "ch=int(input(\"enter your choice:\"))\n",
    "if(ch==1):\n",
    "    print(\"Addition:%.2f\" %(n1+n2))\n",
    "elif(ch==2):\n",
    "    print(\"Substraction:%.2f\" %(n1-n2))\n",
    "elif(ch==3):\n",
    "    print(\"Multiplition:%.2f\" %(n1*n2))\n",
    "elif(ch==4):\n",
    "    print(\"Division:%.2f\" %(n1/n2))\n",
    "else:(\"Invalid!\")"
   ]
  },
  {
   "cell_type": "code",
   "execution_count": null,
   "id": "00bcabef",
   "metadata": {},
   "outputs": [],
   "source": []
  }
 ],
 "metadata": {
  "kernelspec": {
   "display_name": "Python 3 (ipykernel)",
   "language": "python",
   "name": "python3"
  },
  "language_info": {
   "codemirror_mode": {
    "name": "ipython",
    "version": 3
   },
   "file_extension": ".py",
   "mimetype": "text/x-python",
   "name": "python",
   "nbconvert_exporter": "python",
   "pygments_lexer": "ipython3",
   "version": "3.10.6"
  }
 },
 "nbformat": 4,
 "nbformat_minor": 5
}
