{
 "cells": [
  {
   "cell_type": "code",
   "execution_count": 1,
   "id": "e3d0f74f",
   "metadata": {},
   "outputs": [
    {
     "name": "stdout",
     "output_type": "stream",
     "text": [
      "enter a string:radar\n",
      "palindrome\n"
     ]
    }
   ],
   "source": [
    "#palindrome string\n",
    "s=input(\"enter a string:\")\n",
    "if(s==s[ : :-1]):\n",
    "    print(\"palindrome\")\n",
    "else:\n",
    "    print(\"not palindrome\")"
   ]
  },
  {
   "cell_type": "code",
   "execution_count": 3,
   "id": "f5004111",
   "metadata": {},
   "outputs": [
    {
     "name": "stdout",
     "output_type": "stream",
     "text": [
      "enter a string:malayalam\n",
      "reverse: malayalam\n",
      "palindrome\n"
     ]
    }
   ],
   "source": [
    "s=input(\"enter a string:\")\n",
    "rev=\"\"\n",
    "for i in s:\n",
    "    rev=i+rev\n",
    "print(\"reverse:\",rev)\n",
    "if(s==rev):\n",
    "    print(\"palindrome\")\n",
    "else:\n",
    "    print(\"not palindrome\")\n",
    "    "
   ]
  },
  {
   "cell_type": "code",
   "execution_count": null,
   "id": "64f6aeee",
   "metadata": {},
   "outputs": [],
   "source": []
  }
 ],
 "metadata": {
  "kernelspec": {
   "display_name": "Python 3 (ipykernel)",
   "language": "python",
   "name": "python3"
  },
  "language_info": {
   "codemirror_mode": {
    "name": "ipython",
    "version": 3
   },
   "file_extension": ".py",
   "mimetype": "text/x-python",
   "name": "python",
   "nbconvert_exporter": "python",
   "pygments_lexer": "ipython3",
   "version": "3.10.6"
  }
 },
 "nbformat": 4,
 "nbformat_minor": 5
}
