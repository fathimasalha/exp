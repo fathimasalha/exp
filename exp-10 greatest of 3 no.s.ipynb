{
 "cells": [
  {
   "cell_type": "code",
   "execution_count": 1,
   "id": "c20fde29",
   "metadata": {},
   "outputs": [
    {
     "name": "stdout",
     "output_type": "stream",
     "text": [
      "enter first no:2\n",
      "enter second no:3\n",
      "enter third no:5\n",
      "5 is greater\n"
     ]
    }
   ],
   "source": [
    "a=int(input(\"enter first no:\"))\n",
    "b=int(input(\"enter second no:\"))\n",
    "c=int(input(\"enter third no:\"))\n",
    "if(a>b and a>c):\n",
    "    print(\"%d is greater\"%a)\n",
    "elif(c>b):\n",
    "    print(\"%d is greater\"%c)\n",
    "else:\n",
    "    print(\"%d is greater\"%b)         "
   ]
  },
  {
   "cell_type": "code",
   "execution_count": null,
   "id": "3bac050a",
   "metadata": {},
   "outputs": [],
   "source": []
  }
 ],
 "metadata": {
  "kernelspec": {
   "display_name": "Python 3 (ipykernel)",
   "language": "python",
   "name": "python3"
  },
  "language_info": {
   "codemirror_mode": {
    "name": "ipython",
    "version": 3
   },
   "file_extension": ".py",
   "mimetype": "text/x-python",
   "name": "python",
   "nbconvert_exporter": "python",
   "pygments_lexer": "ipython3",
   "version": "3.10.6"
  }
 },
 "nbformat": 4,
 "nbformat_minor": 5
}
