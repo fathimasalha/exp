{
 "cells": [
  {
   "cell_type": "code",
   "execution_count": 2,
   "id": "e7e6b823",
   "metadata": {},
   "outputs": [
    {
     "name": "stdout",
     "output_type": "stream",
     "text": [
      "enter a no:3\n",
      "3 + 33 + 333 = 369\n"
     ]
    }
   ],
   "source": [
    "#n+nn+nnn\n",
    "\n",
    "n=int(input(\"enter a no:\"))\n",
    "nn=(n*10)+n\n",
    "nnn=(nn*10)+n\n",
    "sum=n+nn+nnn\n",
    "print(n,\"+\",nn,\"+\",nnn,\"=\",sum)"
   ]
  },
  {
   "cell_type": "code",
   "execution_count": 4,
   "id": "3233a9a7",
   "metadata": {},
   "outputs": [
    {
     "name": "stdout",
     "output_type": "stream",
     "text": [
      "enter a no:3\n",
      "3 * 33 * 333 = 32967\n"
     ]
    }
   ],
   "source": [
    "#n*nn*nnn\n",
    "n=int(input(\"enter a no:\"))\n",
    "nn=(n*10)+n\n",
    "nnn=(nn*10)+n\n",
    "p=n*nn*nnn\n",
    "print(n,\"*\",nn,\"*\",nnn,\"=\",p)"
   ]
  },
  {
   "cell_type": "code",
   "execution_count": null,
   "id": "5a81f4ba",
   "metadata": {},
   "outputs": [],
   "source": []
  }
 ],
 "metadata": {
  "kernelspec": {
   "display_name": "Python 3 (ipykernel)",
   "language": "python",
   "name": "python3"
  },
  "language_info": {
   "codemirror_mode": {
    "name": "ipython",
    "version": 3
   },
   "file_extension": ".py",
   "mimetype": "text/x-python",
   "name": "python",
   "nbconvert_exporter": "python",
   "pygments_lexer": "ipython3",
   "version": "3.10.6"
  }
 },
 "nbformat": 4,
 "nbformat_minor": 5
}
