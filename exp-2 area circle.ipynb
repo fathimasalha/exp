{
 "cells": [
  {
   "cell_type": "code",
   "execution_count": 1,
   "id": "459c847e",
   "metadata": {},
   "outputs": [
    {
     "name": "stdout",
     "output_type": "stream",
     "text": [
      "enter the radius =3\n",
      "area of circle is 28.27\n"
     ]
    }
   ],
   "source": [
    "#area of circle\n",
    "import math\n",
    "r=int(input(\"enter the radius =\"))\n",
    "a=math.pi*r*r\n",
    "print(\"area of circle is %.2f\" %a)"
   ]
  },
  {
   "cell_type": "code",
   "execution_count": null,
   "id": "e65aed70",
   "metadata": {},
   "outputs": [],
   "source": []
  }
 ],
 "metadata": {
  "kernelspec": {
   "display_name": "Python 3 (ipykernel)",
   "language": "python",
   "name": "python3"
  },
  "language_info": {
   "codemirror_mode": {
    "name": "ipython",
    "version": 3
   },
   "file_extension": ".py",
   "mimetype": "text/x-python",
   "name": "python",
   "nbconvert_exporter": "python",
   "pygments_lexer": "ipython3",
   "version": "3.10.6"
  }
 },
 "nbformat": 4,
 "nbformat_minor": 5
}
