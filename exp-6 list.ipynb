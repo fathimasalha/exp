{
 "cells": [
  {
   "cell_type": "code",
   "execution_count": 1,
   "id": "4647d005",
   "metadata": {},
   "outputs": [
    {
     "name": "stdout",
     "output_type": "stream",
     "text": [
      "enter numbers with comma separated:1,2,3,4,5\n",
      "list: ['1', '2', '3', '4', '5']\n"
     ]
    }
   ],
   "source": [
    "s=input(\"enter numbers with comma separated:\")\n",
    "l=s.split(\",\")\n",
    "print(\"list:\",l)\n"
   ]
  },
  {
   "cell_type": "code",
   "execution_count": null,
   "id": "0014665f",
   "metadata": {},
   "outputs": [],
   "source": []
  }
 ],
 "metadata": {
  "kernelspec": {
   "display_name": "Python 3 (ipykernel)",
   "language": "python",
   "name": "python3"
  },
  "language_info": {
   "codemirror_mode": {
    "name": "ipython",
    "version": 3
   },
   "file_extension": ".py",
   "mimetype": "text/x-python",
   "name": "python",
   "nbconvert_exporter": "python",
   "pygments_lexer": "ipython3",
   "version": "3.10.6"
  }
 },
 "nbformat": 4,
 "nbformat_minor": 5
}
