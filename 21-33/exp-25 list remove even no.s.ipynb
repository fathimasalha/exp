{
 "cells": [
  {
   "cell_type": "code",
   "execution_count": 1,
   "id": "0b5ac7ba",
   "metadata": {},
   "outputs": [
    {
     "name": "stdout",
     "output_type": "stream",
     "text": [
      "List Items =  [11, 22, 31, 44, 51, 65, 71, 82, 91]\n",
      "List Items after removing even Items =  [11, 31, 51, 65, 71, 91]\n"
     ]
    }
   ],
   "source": [
    "#From a list of integers, create a list removing even number\n",
    "\n",
    "List = [11, 22, 31, 44, 51, 65, 71, 82, 91]\n",
    "print(\"List Items = \",List)\n",
    "\n",
    "for i in List:\n",
    "    if (i%2 == 0):\n",
    "        List.remove(i)\n",
    "    \n",
    "print(\"List Items after removing even Items = \",List)"
   ]
  },
  {
   "cell_type": "code",
   "execution_count": null,
   "id": "5799d0ae",
   "metadata": {},
   "outputs": [],
   "source": []
  }
 ],
 "metadata": {
  "kernelspec": {
   "display_name": "Python 3 (ipykernel)",
   "language": "python",
   "name": "python3"
  },
  "language_info": {
   "codemirror_mode": {
    "name": "ipython",
    "version": 3
   },
   "file_extension": ".py",
   "mimetype": "text/x-python",
   "name": "python",
   "nbconvert_exporter": "python",
   "pygments_lexer": "ipython3",
   "version": "3.10.6"
  }
 },
 "nbformat": 4,
 "nbformat_minor": 5
}
