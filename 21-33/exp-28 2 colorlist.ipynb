{
 "cells": [
  {
   "cell_type": "code",
   "execution_count": 1,
   "id": "0b76ef1c",
   "metadata": {},
   "outputs": [
    {
     "name": "stdout",
     "output_type": "stream",
     "text": [
      "Original set of colors:\n",
      "{'Black', 'Red', 'White'}\n",
      "{'Red', 'Green'}\n",
      "\n",
      "colors in color_list1 not contained in color_list2:\n",
      "{'Black', 'White'}\n"
     ]
    }
   ],
   "source": [
    "color_list1 = set([\"White\", \"Black\", \"Red\"])\n",
    "color_list2 = set([\"Red\", \"Green\"])\n",
    "print(\"Original set of colors:\")\n",
    "print(color_list1)\n",
    "print(color_list2)\n",
    "print(\"\\ncolors in color_list1 not contained in color_list2:\")\n",
    "print(color_list1.difference(color_list2))\n"
   ]
  },
  {
   "cell_type": "code",
   "execution_count": null,
   "id": "824a3cdf",
   "metadata": {},
   "outputs": [],
   "source": []
  }
 ],
 "metadata": {
  "kernelspec": {
   "display_name": "Python 3 (ipykernel)",
   "language": "python",
   "name": "python3"
  },
  "language_info": {
   "codemirror_mode": {
    "name": "ipython",
    "version": 3
   },
   "file_extension": ".py",
   "mimetype": "text/x-python",
   "name": "python",
   "nbconvert_exporter": "python",
   "pygments_lexer": "ipython3",
   "version": "3.10.6"
  }
 },
 "nbformat": 4,
 "nbformat_minor": 5
}
