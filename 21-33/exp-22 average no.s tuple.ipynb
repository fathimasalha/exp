{
 "cells": [
  {
   "cell_type": "code",
   "execution_count": 2,
   "id": "c5629adf",
   "metadata": {},
   "outputs": [
    {
     "name": "stdout",
     "output_type": "stream",
     "text": [
      "enter no.s separated by commas:12,23,34,56\n",
      "average of no.s: 31.25\n"
     ]
    }
   ],
   "source": [
    "t=tuple(input(\"enter no.s separated by commas:\").split(\",\"))\n",
    "l=len(t)\n",
    "c=0\n",
    "for i in range(l):\n",
    "    c=int(t[i])+c\n",
    "    avg=c/l\n",
    "print(\"average of no.s:\",avg)"
   ]
  },
  {
   "cell_type": "code",
   "execution_count": null,
   "id": "a4a0246e",
   "metadata": {},
   "outputs": [],
   "source": []
  }
 ],
 "metadata": {
  "kernelspec": {
   "display_name": "Python 3 (ipykernel)",
   "language": "python",
   "name": "python3"
  },
  "language_info": {
   "codemirror_mode": {
    "name": "ipython",
    "version": 3
   },
   "file_extension": ".py",
   "mimetype": "text/x-python",
   "name": "python",
   "nbconvert_exporter": "python",
   "pygments_lexer": "ipython3",
   "version": "3.10.6"
  }
 },
 "nbformat": 4,
 "nbformat_minor": 5
}
