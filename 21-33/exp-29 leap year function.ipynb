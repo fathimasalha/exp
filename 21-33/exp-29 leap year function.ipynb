{
 "cells": [
  {
   "cell_type": "code",
   "execution_count": 1,
   "id": "7d65e97a",
   "metadata": {},
   "outputs": [
    {
     "name": "stdout",
     "output_type": "stream",
     "text": [
      "Enter first year:2000\n",
      "Enter second year:2020\n",
      "leap year between 2000 and 2020 :\n",
      "2000\n",
      "2004\n",
      "2008\n",
      "2012\n",
      "2016\n",
      "2020\n"
     ]
    }
   ],
   "source": [
    "\n",
    "def leap(l,u):\n",
    "    print(\"leap year between\",l,\"and\",u,\":\")\n",
    "    for i in range(l,u+1):\n",
    "        if(i%4==0)and(i%100!=0)or(i%400==0):\n",
    "            print(i)\n",
    "a=int(input(\"Enter first year:\"))\n",
    "b=int(input(\"Enter second year:\"))\n",
    "leap(a,b)\n"
   ]
  },
  {
   "cell_type": "code",
   "execution_count": null,
   "id": "2c3a5701",
   "metadata": {},
   "outputs": [],
   "source": []
  }
 ],
 "metadata": {
  "kernelspec": {
   "display_name": "Python 3 (ipykernel)",
   "language": "python",
   "name": "python3"
  },
  "language_info": {
   "codemirror_mode": {
    "name": "ipython",
    "version": 3
   },
   "file_extension": ".py",
   "mimetype": "text/x-python",
   "name": "python",
   "nbconvert_exporter": "python",
   "pygments_lexer": "ipython3",
   "version": "3.10.6"
  }
 },
 "nbformat": 4,
 "nbformat_minor": 5
}
