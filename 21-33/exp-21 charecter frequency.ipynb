{
 "cells": [
  {
   "cell_type": "code",
   "execution_count": 2,
   "id": "72cc749f",
   "metadata": {},
   "outputs": [
    {
     "name": "stdout",
     "output_type": "stream",
     "text": [
      "enter a string:salha\n",
      "s repeated 1 times\n",
      "a repeated 2 times\n",
      "l repeated 1 times\n",
      "h repeated 1 times\n"
     ]
    }
   ],
   "source": [
    "s=input(\"enter a string:\")\n",
    "f={}\n",
    "for i in s:\n",
    "    if i in f:\n",
    "        f[i]=f[i]+1\n",
    "    else:\n",
    "        f[i]=1\n",
    "for keys,values in f.items():\n",
    "    print(keys,\"repeated\",values,\"times\")"
   ]
  },
  {
   "cell_type": "code",
   "execution_count": null,
   "id": "e446c7f6",
   "metadata": {},
   "outputs": [],
   "source": []
  }
 ],
 "metadata": {
  "kernelspec": {
   "display_name": "Python 3 (ipykernel)",
   "language": "python",
   "name": "python3"
  },
  "language_info": {
   "codemirror_mode": {
    "name": "ipython",
    "version": 3
   },
   "file_extension": ".py",
   "mimetype": "text/x-python",
   "name": "python",
   "nbconvert_exporter": "python",
   "pygments_lexer": "ipython3",
   "version": "3.10.6"
  }
 },
 "nbformat": 4,
 "nbformat_minor": 5
}
