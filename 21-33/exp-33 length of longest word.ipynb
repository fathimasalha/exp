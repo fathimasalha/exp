{
 "cells": [
  {
   "cell_type": "code",
   "execution_count": 1,
   "id": "b97120f9",
   "metadata": {},
   "outputs": [
    {
     "name": "stdout",
     "output_type": "stream",
     "text": [
      "enter a list of words with comma separated:ab,abb,abbd\n",
      "length of longest word: 4\n"
     ]
    }
   ],
   "source": [
    "l1=[]\n",
    "l=list(map(str,input(\"enter a list of words with comma separated:\").split(\",\")))\n",
    "for i in l:\n",
    "    l1.append(len(i))\n",
    "print(\"length of longest word:\",max(l1))"
   ]
  },
  {
   "cell_type": "code",
   "execution_count": null,
   "id": "a849216d",
   "metadata": {},
   "outputs": [],
   "source": []
  }
 ],
 "metadata": {
  "kernelspec": {
   "display_name": "Python 3 (ipykernel)",
   "language": "python",
   "name": "python3"
  },
  "language_info": {
   "codemirror_mode": {
    "name": "ipython",
    "version": 3
   },
   "file_extension": ".py",
   "mimetype": "text/x-python",
   "name": "python",
   "nbconvert_exporter": "python",
   "pygments_lexer": "ipython3",
   "version": "3.10.6"
  }
 },
 "nbformat": 4,
 "nbformat_minor": 5
}
