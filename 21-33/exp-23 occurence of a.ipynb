{
 "cells": [
  {
   "cell_type": "code",
   "execution_count": 2,
   "id": "702c6463",
   "metadata": {},
   "outputs": [
    {
     "name": "stdout",
     "output_type": "stream",
     "text": [
      "names= ['anu', 'diya', 'ramu']\n",
      "occurence of a= 3\n"
     ]
    }
   ],
   "source": [
    "names=['anu','diya','ramu']\n",
    "print(\"names=\",names)\n",
    "count=0\n",
    "for i in names:\n",
    "    count+=i.count('a')\n",
    "print(\"occurence of a=\",count)"
   ]
  },
  {
   "cell_type": "code",
   "execution_count": null,
   "id": "9cc0627d",
   "metadata": {},
   "outputs": [],
   "source": []
  }
 ],
 "metadata": {
  "kernelspec": {
   "display_name": "Python 3 (ipykernel)",
   "language": "python",
   "name": "python3"
  },
  "language_info": {
   "codemirror_mode": {
    "name": "ipython",
    "version": 3
   },
   "file_extension": ".py",
   "mimetype": "text/x-python",
   "name": "python",
   "nbconvert_exporter": "python",
   "pygments_lexer": "ipython3",
   "version": "3.10.6"
  }
 },
 "nbformat": 4,
 "nbformat_minor": 5
}
