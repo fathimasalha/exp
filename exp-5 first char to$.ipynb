{
 "cells": [
  {
   "cell_type": "code",
   "execution_count": 1,
   "id": "6be510be",
   "metadata": {},
   "outputs": [
    {
     "name": "stdout",
     "output_type": "stream",
     "text": [
      "enter a string:onion\n",
      "new string is: oni$n\n"
     ]
    }
   ],
   "source": [
    "s=input(\"enter a string:\")\n",
    "a=s[0]\n",
    "b=s.replace(a,\"$\")\n",
    "s1=a+b[1:]\n",
    "print(\"new string is:\",s1)"
   ]
  },
  {
   "cell_type": "code",
   "execution_count": null,
   "id": "6bf8cf2c",
   "metadata": {},
   "outputs": [],
   "source": []
  }
 ],
 "metadata": {
  "kernelspec": {
   "display_name": "Python 3 (ipykernel)",
   "language": "python",
   "name": "python3"
  },
  "language_info": {
   "codemirror_mode": {
    "name": "ipython",
    "version": 3
   },
   "file_extension": ".py",
   "mimetype": "text/x-python",
   "name": "python",
   "nbconvert_exporter": "python",
   "pygments_lexer": "ipython3",
   "version": "3.10.6"
  }
 },
 "nbformat": 4,
 "nbformat_minor": 5
}
