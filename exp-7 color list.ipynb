{
 "cells": [
  {
   "cell_type": "code",
   "execution_count": 1,
   "id": "d57011c8",
   "metadata": {},
   "outputs": [
    {
     "name": "stdout",
     "output_type": "stream",
     "text": [
      "enter colors with comma separated:blue,red,green\n",
      "first color: blue\n",
      "last color: green\n"
     ]
    }
   ],
   "source": [
    "s=input(\"enter colors with comma separated:\")\n",
    "l=s.split(\",\")\n",
    "a=l[0]\n",
    "b=l[-1]\n",
    "print(\"first color:\",a)\n",
    "print(\"last color:\",b)"
   ]
  },
  {
   "cell_type": "code",
   "execution_count": null,
   "id": "e1221a66",
   "metadata": {},
   "outputs": [],
   "source": []
  }
 ],
 "metadata": {
  "kernelspec": {
   "display_name": "Python 3 (ipykernel)",
   "language": "python",
   "name": "python3"
  },
  "language_info": {
   "codemirror_mode": {
    "name": "ipython",
    "version": 3
   },
   "file_extension": ".py",
   "mimetype": "text/x-python",
   "name": "python",
   "nbconvert_exporter": "python",
   "pygments_lexer": "ipython3",
   "version": "3.10.6"
  }
 },
 "nbformat": 4,
 "nbformat_minor": 5
}
