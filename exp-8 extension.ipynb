{
 "cells": [
  {
   "cell_type": "code",
   "execution_count": 1,
   "id": "24e8afbc",
   "metadata": {},
   "outputs": [
    {
     "name": "stdout",
     "output_type": "stream",
     "text": [
      "enter file name:salha.py\n",
      "extension is: py\n"
     ]
    }
   ],
   "source": [
    "s=input(\"enter file name:\")\n",
    "f=s.split(\".\")\n",
    "print(\"extension is:\",f[-1])"
   ]
  },
  {
   "cell_type": "code",
   "execution_count": null,
   "id": "b6269a34",
   "metadata": {},
   "outputs": [],
   "source": []
  }
 ],
 "metadata": {
  "kernelspec": {
   "display_name": "Python 3 (ipykernel)",
   "language": "python",
   "name": "python3"
  },
  "language_info": {
   "codemirror_mode": {
    "name": "ipython",
    "version": 3
   },
   "file_extension": ".py",
   "mimetype": "text/x-python",
   "name": "python",
   "nbconvert_exporter": "python",
   "pygments_lexer": "ipython3",
   "version": "3.10.6"
  }
 },
 "nbformat": 4,
 "nbformat_minor": 5
}
